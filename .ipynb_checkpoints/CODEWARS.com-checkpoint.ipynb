{
 "cells": [
  {
   "cell_type": "markdown",
   "id": "bbbdf5f5",
   "metadata": {},
   "source": [
    "### 1 \n",
    "Your task is to make a function that can take any non-negative integer as an argument and return it with its digits in descending order. Essentially, rearrange the digits to create the highest possible number.\n",
    "Examples:\n",
    "\n",
    "Input: 42145 Output: 54421\n",
    "\n",
    "Input: 145263 Output: 654321\n",
    "\n",
    "Input: 123456789 Output: 987654321\n"
   ]
  },
  {
   "cell_type": "code",
   "execution_count": 1,
   "id": "2a6841c0",
   "metadata": {
    "pycharm": {
     "is_executing": false,
     "name": "#%%\n"
    }
   },
   "outputs": [],
   "source": [
    "def descending_order(num):\n",
    "    out = [i for i in iter(str(num))]\n",
    "    out.sort()\n",
    "    return int(\"\".join(out[::-1]))"
   ]
  },
  {
   "cell_type": "code",
   "execution_count": 2,
   "id": "e2ebe8e3",
   "metadata": {
    "pycharm": {
     "is_executing": false,
     "name": "#%%\n"
    }
   },
   "outputs": [],
   "source": [
    "def descending_order(num):\n",
    "    return "
   ]
  },
  {
   "cell_type": "markdown",
   "id": "7b2c0676",
   "metadata": {},
   "source": [
    "------------------------"
   ]
  },
  {
   "cell_type": "markdown",
   "id": "9eba4d0d",
   "metadata": {},
   "source": [
    "### 2\n",
    "Write a function that takes an integer as input, and returns the number of bits that are equal to one in the binary representation of that number. You can guarantee that input is non-negative.\n",
    "\n",
    "#### Example:   \n",
    "The binary representation of 1234 is 10011010010, so the function should return 5 in this case\n"
   ]
  },
  {
   "cell_type": "code",
   "execution_count": 3,
   "id": "7cfcfecd",
   "metadata": {
    "pycharm": {
     "is_executing": false,
     "name": "#%%\n"
    }
   },
   "outputs": [
    {
     "data": {
      "text/plain": [
       "5"
      ]
     },
     "execution_count": 3,
     "metadata": {},
     "output_type": "execute_result"
    }
   ],
   "source": [
    "bin(1234).count(\"1\")"
   ]
  },
  {
   "cell_type": "code",
   "execution_count": 4,
   "id": "e8548519",
   "metadata": {
    "pycharm": {
     "is_executing": false,
     "name": "#%%\n"
    }
   },
   "outputs": [
    {
     "ename": "NameError",
     "evalue": "name 'n' is not defined",
     "output_type": "error",
     "traceback": [
      "\u001b[1;31m---------------------------------------------------------------------------\u001b[0m",
      "\u001b[1;31mNameError\u001b[0m                                 Traceback (most recent call last)",
      "\u001b[1;32m~\\AppData\\Local\\Temp/ipykernel_13284/4279965412.py\u001b[0m in \u001b[0;36m<module>\u001b[1;34m\u001b[0m\n\u001b[1;32m----> 1\u001b[1;33m \u001b[0mn\u001b[0m\u001b[1;33m.\u001b[0m\u001b[0mcount\u001b[0m\u001b[1;33m(\u001b[0m\u001b[1;34m\"1\"\u001b[0m\u001b[1;33m)\u001b[0m\u001b[1;33m\u001b[0m\u001b[1;33m\u001b[0m\u001b[0m\n\u001b[0m",
      "\u001b[1;31mNameError\u001b[0m: name 'n' is not defined"
     ]
    }
   ],
   "source": [
    "n.count(\"1\")"
   ]
  },
  {
   "cell_type": "markdown",
   "id": "c13c6048",
   "metadata": {},
   "source": [
    "--------------------------"
   ]
  },
  {
   "cell_type": "markdown",
   "id": "4b929589",
   "metadata": {},
   "source": [
    "### 3\n",
    "Given an array of integers, find the one that appears an odd number of times.\n",
    "\n",
    "There will always be only one integer that appears an odd number of times.\n",
    "\n",
    "#### Examples\n",
    "\n",
    "[7] should return 7, because it occurs 1 time (which is odd).  \n",
    "[0] should return 0, because it occurs 1 time (which is odd).  \n",
    "[1,1,2] should return 2, because it occurs 1 time (which is odd).  \n",
    "[0,1,0,1,0] should return 0, because it occurs 3 times (which is odd).  \n",
    "[1,2,2,3,3,3,4,3,3,3,2,2,1] should return 4, because it appears 1 time (which is odd).  \n"
   ]
  },
  {
   "cell_type": "code",
   "execution_count": 5,
   "id": "e7636921",
   "metadata": {
    "pycharm": {
     "is_executing": false,
     "name": "#%%\n"
    }
   },
   "outputs": [],
   "source": [
    "s = [1,2,2,3,3,3,4,3,3,3,2,2,1]"
   ]
  },
  {
   "cell_type": "code",
   "execution_count": 6,
   "id": "a0360b34",
   "metadata": {
    "pycharm": {
     "is_executing": false,
     "name": "#%%\n"
    }
   },
   "outputs": [],
   "source": [
    "def find_it(seq):\n",
    "    s = [i for i in seq if seq.count(i)%2 != 0]\n",
    "    return s[0]"
   ]
  },
  {
   "cell_type": "code",
   "execution_count": 7,
   "id": "64a5b5b6",
   "metadata": {
    "pycharm": {
     "is_executing": false,
     "name": "#%%\n"
    }
   },
   "outputs": [
    {
     "data": {
      "text/plain": [
       "4"
      ]
     },
     "execution_count": 7,
     "metadata": {},
     "output_type": "execute_result"
    }
   ],
   "source": [
    "find_it([1,2,2,3,3,3,4,3,3,3,2,2,1])"
   ]
  },
  {
   "cell_type": "markdown",
   "id": "cc5f2c99",
   "metadata": {},
   "source": [
    "---------------------\n"
   ]
  },
  {
   "cell_type": "markdown",
   "id": "fe6524e3",
   "metadata": {},
   "source": [
    "### 4\n",
    "Check to see if a string has the same amount of 'x's and 'o's. The method must return a boolean and be case insensitive. The string can contain any char.\n",
    "\n",
    "#### Examples input/output:  \n",
    "\n",
    "```\n",
    "XO(\"ooxx\") => true  \n",
    "XO(\"xooxx\") => false  \n",
    "XO(\"ooxXm\") => true  \n",
    "XO(\"zpzpzpp\") => true // when no 'x' and 'o' is present should return true  \n",
    "XO(\"zzoo\") => false  \n",
    "```\n"
   ]
  },
  {
   "cell_type": "code",
   "execution_count": 8,
   "id": "cb4fc8e6",
   "metadata": {
    "pycharm": {
     "is_executing": false,
     "name": "#%%\n"
    }
   },
   "outputs": [
    {
     "data": {
      "text/plain": [
       "0"
      ]
     },
     "execution_count": 8,
     "metadata": {},
     "output_type": "execute_result"
    }
   ],
   "source": [
    "\"zpzpzpp\".count(\"x\")"
   ]
  },
  {
   "cell_type": "code",
   "execution_count": 9,
   "id": "576fc0a9",
   "metadata": {
    "pycharm": {
     "is_executing": false,
     "name": "#%%\n"
    }
   },
   "outputs": [],
   "source": [
    "def xo(s):\n",
    "    return (s.lower().count(\"x\") == s.lower().count(\"o\"))"
   ]
  },
  {
   "cell_type": "code",
   "execution_count": 10,
   "id": "21443c7f",
   "metadata": {
    "pycharm": {
     "is_executing": false,
     "name": "#%%\n"
    }
   },
   "outputs": [
    {
     "data": {
      "text/plain": [
       "False"
      ]
     },
     "execution_count": 10,
     "metadata": {},
     "output_type": "execute_result"
    }
   ],
   "source": [
    "xo(\"zzoo\")"
   ]
  },
  {
   "cell_type": "markdown",
   "id": "a0d22ff4",
   "metadata": {},
   "source": [
    "-----------------"
   ]
  },
  {
   "cell_type": "markdown",
   "id": "e221394c",
   "metadata": {},
   "source": [
    "### 5 \n",
    "ATM machines allow 4 or 6 digit PIN codes and PIN codes cannot contain anything but exactly 4 digits or exactly 6 digits.\n",
    "\n",
    "If the function is passed a valid PIN string, return true, else return false.  \n",
    "#### Examples (Input --> Output)  \n",
    "\n",
    "\"1234\"   -->  true  \n",
    "\"12345\"  -->  false  \n",
    "\"a234\"   -->  false  \n",
    "\n"
   ]
  },
  {
   "cell_type": "code",
   "execution_count": 11,
   "id": "61f48cdd",
   "metadata": {
    "pycharm": {
     "is_executing": false,
     "name": "#%%\n"
    }
   },
   "outputs": [],
   "source": [
    "def validate_pin(pin):\n",
    "    return True if (len(pin) == 4 or len(pin) == 6) and pin.isnumeric() else False"
   ]
  },
  {
   "cell_type": "code",
   "execution_count": 12,
   "id": "e4fbefcb",
   "metadata": {
    "pycharm": {
     "is_executing": false,
     "name": "#%%\n"
    }
   },
   "outputs": [],
   "source": [
    "p = \"122211\""
   ]
  },
  {
   "cell_type": "code",
   "execution_count": 13,
   "id": "1a83f2f6",
   "metadata": {
    "pycharm": {
     "is_executing": false,
     "name": "#%%\n"
    }
   },
   "outputs": [
    {
     "name": "stdout",
     "output_type": "stream",
     "text": [
      "True\n"
     ]
    }
   ],
   "source": [
    "if (len(p) == 4 or len(p) == 6) and p.isnumeric():\n",
    "    print(True)\n",
    "else:\n",
    "    print(False)"
   ]
  },
  {
   "cell_type": "code",
   "execution_count": 14,
   "id": "f2fc3c6d",
   "metadata": {
    "pycharm": {
     "is_executing": false,
     "name": "#%%\n"
    }
   },
   "outputs": [
    {
     "data": {
      "text/plain": [
       "True"
      ]
     },
     "execution_count": 14,
     "metadata": {},
     "output_type": "execute_result"
    }
   ],
   "source": [
    "validate_pin(\"1311\")"
   ]
  },
  {
   "cell_type": "code",
   "execution_count": 15,
   "id": "d1a64db1",
   "metadata": {
    "pycharm": {
     "is_executing": false,
     "name": "#%%\n"
    }
   },
   "outputs": [
    {
     "data": {
      "text/plain": [
       "bool"
      ]
     },
     "execution_count": 15,
     "metadata": {},
     "output_type": "execute_result"
    }
   ],
   "source": [
    "type((len(p) == 4 or len(p) == 6) and p.isnumeric())"
   ]
  },
  {
   "cell_type": "markdown",
   "id": "e818642d",
   "metadata": {},
   "source": [
    "---------------------------"
   ]
  },
  {
   "cell_type": "markdown",
   "id": "59867160",
   "metadata": {},
   "source": [
    "### 6\n",
    "Complete the method/function so that it converts dash/underscore delimited words into camel casing. The first word within the output should be capitalized only if the original word was capitalized (known as Upper Camel Case, also often referred to as Pascal case).\n",
    "#### Examples\n",
    "\n",
    "\"the-stealth-warrior\" gets converted to \"theStealthWarrior\"  \n",
    "\"The_Stealth_Warrior\" gets converted to \"TheStealthWarrior\"  \n"
   ]
  },
  {
   "cell_type": "code",
   "execution_count": 16,
   "id": "a19785bd",
   "metadata": {
    "pycharm": {
     "is_executing": false,
     "name": "#%%\n"
    }
   },
   "outputs": [],
   "source": [
    "import re\n",
    "def to_camel_case(text):\n",
    "    a = [re.split(\"_|-\", text)[0]]\n",
    "    for i in re.split(\"_|-\", text)[1::]:\n",
    "        a.append(i.capitalize())\n",
    "    return \"\".join(a)"
   ]
  },
  {
   "cell_type": "code",
   "execution_count": 17,
   "id": "ee1e4be1",
   "metadata": {
    "pycharm": {
     "is_executing": false,
     "name": "#%%\n"
    }
   },
   "outputs": [],
   "source": [
    "s = \"The_Stealth_Warrior\""
   ]
  },
  {
   "cell_type": "code",
   "execution_count": 18,
   "id": "097b5958",
   "metadata": {
    "pycharm": {
     "is_executing": false,
     "name": "#%%\n"
    }
   },
   "outputs": [
    {
     "data": {
      "text/plain": [
       "'The_Stealth_Warrior'"
      ]
     },
     "execution_count": 18,
     "metadata": {},
     "output_type": "execute_result"
    }
   ],
   "source": [
    "s.replace(\"-\", \"\")"
   ]
  },
  {
   "cell_type": "code",
   "execution_count": 19,
   "id": "774b10dd",
   "metadata": {
    "pycharm": {
     "is_executing": false,
     "name": "#%%\n"
    }
   },
   "outputs": [
    {
     "data": {
      "text/plain": [
       "['The_Stealth_Warrior']"
      ]
     },
     "execution_count": 19,
     "metadata": {},
     "output_type": "execute_result"
    }
   ],
   "source": [
    "s.split(\"-\")"
   ]
  },
  {
   "cell_type": "code",
   "execution_count": 20,
   "id": "0d4b9aa6",
   "metadata": {
    "pycharm": {
     "is_executing": false,
     "name": "#%%\n"
    }
   },
   "outputs": [
    {
     "data": {
      "text/plain": [
       "'The_Stealth_Warrior'"
      ]
     },
     "execution_count": 20,
     "metadata": {},
     "output_type": "execute_result"
    }
   ],
   "source": [
    "s.replace(\"-\", \"\")"
   ]
  },
  {
   "cell_type": "code",
   "execution_count": 21,
   "id": "5ccf29a8",
   "metadata": {
    "pycharm": {
     "is_executing": false,
     "name": "#%%\n"
    }
   },
   "outputs": [],
   "source": [
    "import re"
   ]
  },
  {
   "cell_type": "code",
   "execution_count": 22,
   "id": "49111e36",
   "metadata": {
    "pycharm": {
     "is_executing": false,
     "name": "#%%\n"
    }
   },
   "outputs": [],
   "source": [
    "s1 = \"The_Stealth_Warrior\""
   ]
  },
  {
   "cell_type": "code",
   "execution_count": 23,
   "id": "f77d7859",
   "metadata": {
    "pycharm": {
     "is_executing": false,
     "name": "#%%\n"
    }
   },
   "outputs": [],
   "source": [
    "s = \"the-stealth-warrior\""
   ]
  },
  {
   "cell_type": "code",
   "execution_count": 24,
   "id": "a2090618",
   "metadata": {
    "pycharm": {
     "is_executing": false,
     "name": "#%%\n"
    }
   },
   "outputs": [],
   "source": [
    "a = [re.split(\"_|-\", s)[0]]"
   ]
  },
  {
   "cell_type": "code",
   "execution_count": 25,
   "id": "42ec8285",
   "metadata": {
    "pycharm": {
     "is_executing": false,
     "name": "#%%\n"
    }
   },
   "outputs": [
    {
     "data": {
      "text/plain": [
       "['the']"
      ]
     },
     "execution_count": 25,
     "metadata": {},
     "output_type": "execute_result"
    }
   ],
   "source": [
    "a"
   ]
  },
  {
   "cell_type": "code",
   "execution_count": 26,
   "id": "5dd85cc5",
   "metadata": {
    "pycharm": {
     "is_executing": false,
     "name": "#%%\n"
    }
   },
   "outputs": [],
   "source": [
    "for i in re.split(\"_|-\", s)[1::]:\n",
    "    a.append(i.capitalize())"
   ]
  },
  {
   "cell_type": "code",
   "execution_count": 27,
   "id": "b21c402e",
   "metadata": {
    "pycharm": {
     "is_executing": false,
     "name": "#%%\n"
    }
   },
   "outputs": [
    {
     "data": {
      "text/plain": [
       "['the', 'Stealth', 'Warrior']"
      ]
     },
     "execution_count": 27,
     "metadata": {},
     "output_type": "execute_result"
    }
   ],
   "source": [
    "a"
   ]
  },
  {
   "cell_type": "code",
   "execution_count": 28,
   "id": "34f08ee3",
   "metadata": {
    "pycharm": {
     "is_executing": false,
     "name": "#%%\n"
    }
   },
   "outputs": [
    {
     "data": {
      "text/plain": [
       "'theStealthWarrior'"
      ]
     },
     "execution_count": 28,
     "metadata": {},
     "output_type": "execute_result"
    }
   ],
   "source": [
    "\"\".join(a)"
   ]
  },
  {
   "cell_type": "markdown",
   "id": "48331194",
   "metadata": {},
   "source": [
    "--------------------------------"
   ]
  },
  {
   "cell_type": "markdown",
   "id": "b8e0d3a3",
   "metadata": {},
   "source": [
    "### 7\n",
    "Define a function that takes one integer argument and returns logical value true or false depending on if the integer is a prime.\n",
    "\n",
    "Per Wikipedia, a prime number (or a prime) is a natural number greater than 1 that has no positive divisors other than 1 and itself.\n",
    "Requirements\n",
    "\n",
    "    You can assume you will be given an integer input.\n",
    "    You can not assume that the integer will be only positive. You may be given negative numbers as well (or 0).\n",
    "    NOTE on performance: There are no fancy optimizations required, but still the most trivial solutions might time out. Numbers go up to 2^31 (or similar, depends on language version). Looping all the way up to n, or n/2, will be too slow.\n",
    "\n",
    "Example \n",
    "\n",
    "is_prime(1)  /* false */ \n",
    "\n",
    "is_prime(2)  /* true  */  \n",
    "\n",
    "is_prime(-1) /* false */      \n",
    "\n"
   ]
  },
  {
   "cell_type": "code",
   "execution_count": 29,
   "id": "e37c0b28",
   "metadata": {
    "pycharm": {
     "is_executing": false,
     "name": "#%%\n"
    }
   },
   "outputs": [],
   "source": [
    "from math import sqrt \n",
    "\n",
    "# it is slower than the one without the first IF clause XD\n",
    "\n",
    "def is_prime(num):\n",
    "    if num % 2 == 0:\n",
    "        return False\n",
    "    elif num > 1 and num != 4:\n",
    "        for i in range(2, int(sqrt(num))+1):\n",
    "            if num % i == 0:\n",
    "                return False\n",
    "        else:\n",
    "            return True\n",
    "    elif num == 2 or num == 3:\n",
    "        return True\n",
    "    else:\n",
    "        return False"
   ]
  },
  {
   "cell_type": "code",
   "execution_count": 30,
   "id": "7045d5e0",
   "metadata": {
    "pycharm": {
     "is_executing": false,
     "name": "#%%\n"
    }
   },
   "outputs": [
    {
     "data": {
      "text/plain": [
       "False"
      ]
     },
     "execution_count": 30,
     "metadata": {},
     "output_type": "execute_result"
    }
   ],
   "source": [
    "is_prime(-1)"
   ]
  },
  {
   "cell_type": "code",
   "execution_count": 31,
   "id": "b85ca070",
   "metadata": {
    "pycharm": {
     "is_executing": false,
     "name": "#%%\n"
    }
   },
   "outputs": [
    {
     "name": "stdout",
     "output_type": "stream",
     "text": [
      "401 ns ± 37.8 ns per loop (mean ± std. dev. of 7 runs, 1000000 loops each)\n"
     ]
    }
   ],
   "source": [
    "%timeit is_prime(100000000000000000000)"
   ]
  },
  {
   "cell_type": "markdown",
   "id": "eee50282",
   "metadata": {},
   "source": [
    "----------------------------------\n",
    "### 8 \n",
    "You are given an array(list) strarr of strings and an integer k. Your task is to return the first longest string consisting of k consecutive strings taken in the array.\n",
    "\n",
    "#### Examples:\n",
    "   ```\n",
    "strarr = [\"tree\", \"foling\", \"trashy\", \"blue\", \"abcdef\", \"uvwxyz\"], k = 2\n",
    "\n",
    "Concatenate the consecutive strings of strarr by 2, we get:\n",
    "\n",
    "treefoling   (length 10)  concatenation of strarr[0] and strarr[1]  \n",
    "folingtrashy (\"      12)  concatenation of strarr[1] and strarr[2]  \n",
    "trashyblue   (\"      10)  concatenation of strarr[2] and strarr[3]  \n",
    "blueabcdef   (\"      10)  concatenation of strarr[3] and strarr[4]  \n",
    "abcdefuvwxyz (\"      12)  concatenation of strarr[4] and strarr[5]  \n",
    "\n",
    "Two strings are the longest: \"folingtrashy\" and \"abcdefuvwxyz\".\n",
    "The first that came is \"folingtrashy\" so \n",
    "longest_consec(strarr, 2) should return \"folingtrashy\".\n",
    "```\n",
    "In the same way:\n",
    "longest_consec([\"zone\", \"abigail\", \"theta\", \"form\", \"libe\", \"zas\", \"theta\", \"abigail\"], 2) --> \"abigailtheta\"\n",
    "\n",
    "n being the length of the string array, if `n = 0` or `k > n` or `k <= 0` return \"\".\n",
    "Note\n",
    "\n",
    "consecutive strings : follow one after another without an interruption\n"
   ]
  },
  {
   "cell_type": "code",
   "execution_count": 32,
   "id": "d0111a7f",
   "metadata": {
    "pycharm": {
     "is_executing": false,
     "name": "#%%\n"
    }
   },
   "outputs": [],
   "source": [
    "def longest_consec(strarr, k):\n",
    "    a = []\n",
    "    n = len(strarr)\n",
    "    if n == 0 or k <= 0 or k > n:\n",
    "        return \"\"\n",
    "    else:\n",
    "        for i in range(n-k+1):\n",
    "            x = \"\".join(strarr[i:i+k:])\n",
    "            if not a :\n",
    "                a.append(x)\n",
    "            elif len(a[0]) < len(x):\n",
    "                a.pop()\n",
    "                a.append(x)\n",
    "        return a[0]"
   ]
  },
  {
   "cell_type": "code",
   "execution_count": 33,
   "id": "7cb74dbc",
   "metadata": {
    "pycharm": {
     "is_executing": false,
     "name": "#%%\n"
    }
   },
   "outputs": [
    {
     "data": {
      "text/plain": [
       "'treefolingtrashy'"
      ]
     },
     "execution_count": 33,
     "metadata": {},
     "output_type": "execute_result"
    }
   ],
   "source": [
    "longest_consec([\"tree\", \"foling\", \"trashy\", \"blue\", \"abcdef\", \"uvwxyz\"],3)"
   ]
  },
  {
   "cell_type": "code",
   "execution_count": 34,
   "id": "541982e4",
   "metadata": {
    "pycharm": {
     "is_executing": false,
     "name": "#%%\n"
    }
   },
   "outputs": [
    {
     "name": "stdout",
     "output_type": "stream",
     "text": [
      "6.11 µs ± 376 ns per loop (mean ± std. dev. of 7 runs, 100000 loops each)\n"
     ]
    }
   ],
   "source": [
    "%timeit longest_consec([\"tree\", \"foling\", \"trashy\", \"blue\", \"abcdef\", \"uvwxyz\"],1)"
   ]
  },
  {
   "cell_type": "code",
   "execution_count": 35,
   "id": "5179c520",
   "metadata": {
    "pycharm": {
     "is_executing": false,
     "name": "#%%\n"
    }
   },
   "outputs": [],
   "source": [
    "def llongest_consec(strarr, k):\n",
    "    result = \"\"\n",
    "    \n",
    "    if k > 0 and len(strarr) >= k:\n",
    "        for index in range(len(strarr) - k + 1):\n",
    "            s = ''.join(strarr[index:index+k])\n",
    "            if len(s) > len(result):\n",
    "                result = s\n",
    "            \n",
    "    return result"
   ]
  },
  {
   "cell_type": "code",
   "execution_count": 36,
   "id": "dc5c6d81",
   "metadata": {
    "pycharm": {
     "is_executing": false,
     "name": "#%%\n"
    }
   },
   "outputs": [
    {
     "name": "stdout",
     "output_type": "stream",
     "text": [
      "5.06 µs ± 239 ns per loop (mean ± std. dev. of 7 runs, 100000 loops each)\n"
     ]
    }
   ],
   "source": [
    "%timeit llongest_consec([\"tree\", \"foling\", \"trashy\", \"blue\", \"abcdef\", \"uvwxyz\"],1)"
   ]
  },
  {
   "cell_type": "markdown",
   "id": "49aef42e",
   "metadata": {},
   "source": [
    "-----------------------\n"
   ]
  },
  {
   "cell_type": "markdown",
   "id": "6d1c502a",
   "metadata": {},
   "source": [
    "### 9 \n",
    "Write an algorithm that takes an array and moves all of the zeros to the end, preserving the order of the other elements.\n",
    "```\n",
    "move_zeros([1, 0, 1, 2, 0, 1, 3]) # returns [1, 1, 2, 1, 3, 0, 0]\n",
    "```"
   ]
  },
  {
   "cell_type": "code",
   "execution_count": 37,
   "id": "de8d416d",
   "metadata": {
    "pycharm": {
     "is_executing": false,
     "name": "#%%\n"
    }
   },
   "outputs": [],
   "source": [
    "def move_zeros(a):\n",
    "    try:\n",
    "        s = 0\n",
    "        for i in range(len(a)):\n",
    "            a.remove(0)\n",
    "            s += 1\n",
    "    except:\n",
    "        for i in range(s):\n",
    "            a.append(0)\n",
    "    return a"
   ]
  },
  {
   "cell_type": "code",
   "execution_count": 38,
   "id": "d3d6c5ba",
   "metadata": {
    "pycharm": {
     "is_executing": false,
     "name": "#%%\n"
    }
   },
   "outputs": [
    {
     "data": {
      "text/plain": [
       "[1, 1, 2, 1, 3, 0, 0]"
      ]
     },
     "execution_count": 38,
     "metadata": {},
     "output_type": "execute_result"
    }
   ],
   "source": [
    "move_zeros([1, 0, 1, 2, 0, 1, 3])\n"
   ]
  },
  {
   "cell_type": "code",
   "execution_count": 39,
   "id": "dd9bfca5",
   "metadata": {
    "pycharm": {
     "is_executing": false,
     "name": "#%%\n"
    }
   },
   "outputs": [],
   "source": [
    "a = [0,0]"
   ]
  },
  {
   "cell_type": "code",
   "execution_count": 40,
   "id": "f5d11ac6",
   "metadata": {
    "pycharm": {
     "is_executing": false,
     "name": "#%%\n"
    }
   },
   "outputs": [
    {
     "data": {
      "text/plain": [
       "2"
      ]
     },
     "execution_count": 40,
     "metadata": {},
     "output_type": "execute_result"
    }
   ],
   "source": [
    "try:\n",
    "    s = 0\n",
    "    for i in range(len(a)+1):\n",
    "        a.remove(0)\n",
    "        s += 1\n",
    "except:\n",
    "    for i in range(s):\n",
    "        a.append(0)\n",
    "\n",
    "s"
   ]
  },
  {
   "cell_type": "code",
   "execution_count": 41,
   "id": "11814617",
   "metadata": {
    "pycharm": {
     "is_executing": false,
     "name": "#%%\n"
    }
   },
   "outputs": [
    {
     "data": {
      "text/plain": [
       "[0, 0]"
      ]
     },
     "execution_count": 41,
     "metadata": {},
     "output_type": "execute_result"
    }
   ],
   "source": [
    "a"
   ]
  },
  {
   "cell_type": "code",
   "execution_count": 42,
   "id": "986f834c",
   "metadata": {
    "pycharm": {
     "is_executing": false,
     "name": "#%%\n"
    }
   },
   "outputs": [],
   "source": [
    "a.append(0)"
   ]
  },
  {
   "cell_type": "code",
   "execution_count": 43,
   "id": "05bd0256",
   "metadata": {
    "pycharm": {
     "is_executing": false,
     "name": "#%%\n"
    }
   },
   "outputs": [
    {
     "data": {
      "text/plain": [
       "[0, 0, 0]"
      ]
     },
     "execution_count": 43,
     "metadata": {},
     "output_type": "execute_result"
    }
   ],
   "source": [
    "a"
   ]
  },
  {
   "cell_type": "markdown",
   "id": "92b3f5d1",
   "metadata": {},
   "source": [
    "---------------------------\n",
    "\n",
    "### 10\n",
    "You live in the city of Cartesia where all roads are laid out in a perfect grid. You arrived ten minutes too early to an appointment, so you decided to take the opportunity to go for a short walk. The city provides its citizens with a Walk Generating App on their phones -- everytime you press the button it sends you an array of one-letter strings representing directions to walk (eg. ['n', 's', 'w', 'e']). You always walk only a single block for each letter (direction) and you know it takes you one minute to traverse one city block, so create a function that will return true if the walk the app gives you will take you exactly ten minutes (you don't want to be early or late!) and will, of course, return you to your starting point. Return false otherwise.\n",
    "\n",
    "    Note: you will always receive a valid array containing a random assortment of direction letters ('n', 's', 'e', or 'w' only). It will never give you an empty array (that's not a walk, that's standing still!).\n",
    "\n"
   ]
  },
  {
   "cell_type": "code",
   "execution_count": 44,
   "id": "de599b90",
   "metadata": {
    "pycharm": {
     "is_executing": false,
     "name": "#%%\n"
    }
   },
   "outputs": [],
   "source": [
    "def is_valid_walk(walk):\n",
    "    n, w, s, e = 0, 0, 0, 0\n",
    "    if len(walk) == 10:\n",
    "        n = walk.count(\"n\")\n",
    "        s = walk.count(\"s\")\n",
    "        w = walk.count(\"w\")\n",
    "        e = walk.count(\"e\")\n",
    "        if n != s or e != w:\n",
    "            return False\n",
    "        else:\n",
    "            return True\n",
    "    else:\n",
    "        return False"
   ]
  },
  {
   "cell_type": "code",
   "execution_count": 45,
   "id": "c7b90b40",
   "metadata": {
    "pycharm": {
     "is_executing": false,
     "name": "#%%\n"
    }
   },
   "outputs": [
    {
     "data": {
      "text/plain": [
       "False"
      ]
     },
     "execution_count": 45,
     "metadata": {},
     "output_type": "execute_result"
    }
   ],
   "source": [
    "is_valid_walk(['w','e','w','e','w','e','w','e','w','e','w','e'])"
   ]
  },
  {
   "cell_type": "code",
   "execution_count": 46,
   "id": "a3d73e21",
   "metadata": {
    "pycharm": {
     "is_executing": false,
     "name": "#%%\n"
    }
   },
   "outputs": [],
   "source": [
    "n, w, s, e = 0, 0, 0, 0"
   ]
  },
  {
   "cell_type": "code",
   "execution_count": 47,
   "id": "a82c3fa5",
   "metadata": {
    "pycharm": {
     "is_executing": false,
     "name": "#%%\n"
    }
   },
   "outputs": [],
   "source": [
    "walk = ['n','s','n','s','n','s','n','s','n','s']"
   ]
  },
  {
   "cell_type": "code",
   "execution_count": 48,
   "id": "31322970",
   "metadata": {
    "pycharm": {
     "is_executing": false,
     "name": "#%%\n"
    }
   },
   "outputs": [],
   "source": [
    "ab = walk.count(\"n\")"
   ]
  },
  {
   "cell_type": "code",
   "execution_count": 49,
   "id": "49fed94b",
   "metadata": {
    "pycharm": {
     "is_executing": false,
     "name": "#%%\n"
    }
   },
   "outputs": [
    {
     "data": {
      "text/plain": [
       "5"
      ]
     },
     "execution_count": 49,
     "metadata": {},
     "output_type": "execute_result"
    }
   ],
   "source": [
    "ab"
   ]
  },
  {
   "cell_type": "code",
   "execution_count": 50,
   "id": "01eae773",
   "metadata": {
    "pycharm": {
     "is_executing": false,
     "name": "#%%\n"
    }
   },
   "outputs": [
    {
     "data": {
      "text/plain": [
       "0"
      ]
     },
     "execution_count": 50,
     "metadata": {},
     "output_type": "execute_result"
    }
   ],
   "source": [
    "walk.index(\"n\",0)"
   ]
  },
  {
   "cell_type": "code",
   "execution_count": 51,
   "id": "587f9f32",
   "metadata": {
    "pycharm": {
     "is_executing": false,
     "name": "#%%\n"
    }
   },
   "outputs": [
    {
     "data": {
      "text/plain": [
       "10"
      ]
     },
     "execution_count": 51,
     "metadata": {},
     "output_type": "execute_result"
    }
   ],
   "source": [
    "len(walk)"
   ]
  },
  {
   "cell_type": "markdown",
   "id": "ec14fa61",
   "metadata": {},
   "source": [
    "----------------------------\n",
    "\n",
    "### 11\n",
    "Your task in order to complete this Kata is to write a function which formats a duration, given as a number of seconds, in a human-friendly way.\n",
    "\n",
    "The function must accept a non-negative integer. If it is zero, it just returns \"now\". Otherwise, the duration is expressed as a combination of years, days, hours, minutes and seconds.\n",
    "\n",
    "It is much easier to understand with an example:  \n",
    "```\n",
    "format_duration(62)    # returns \"1 minute and 2 seconds\"  \n",
    "format_duration(3662)  # returns \"1 hour, 1 minute and 2 seconds\"  \n",
    "```\n",
    "For the purpose of this Kata, a year is 365 days and a day is 24 hours. \n",
    "\n",
    "Note that spaces are important.\n",
    "Detailed rules\n",
    "\n",
    "The resulting expression is made of components like 4 seconds, 1 year, etc. In general, a positive integer and one of the valid units of time, separated by a space. The unit of time is used in plural if the integer is greater than 1.\n",
    "\n",
    "The components are separated by a comma and a space (\", \"). Except the last component, which is separated by \" and \", just like it would be written in English.\n",
    "\n",
    "A more significant units of time will occur before than a least significant one. Therefore, 1 second and 1 year is not correct, but 1 year and 1 second is.\n",
    "\n",
    "Different components have different unit of times. So there is not repeated units like in 5 seconds and 1 second.\n",
    "\n",
    "A component will not appear at all if its value happens to be zero. Hence, 1 minute and 0 seconds is not valid, but it should be just 1 minute.\n",
    "\n",
    "A unit of time must be used \"as much as possible\". It means that the function should not return 61 seconds, but 1 minute and 1 second instead. Formally, the duration specified by of a component must not be greater than any valid more significant unit of time.\n"
   ]
  },
  {
   "cell_type": "code",
   "execution_count": 52,
   "id": "6d9295b5",
   "metadata": {
    "pycharm": {
     "is_executing": false,
     "name": "#%%\n"
    }
   },
   "outputs": [],
   "source": [
    "def format_duration(seconds):\n",
    "    m1 =  seconds // 60\n",
    "    h1 = m1 // 60\n",
    "    d1 = h1 // 24\n",
    "    year =  d1 // 365\n",
    "    day = d1 - (year * 365)\n",
    "    hour = h1 - (year * 365*24 + day * 24) \n",
    "    minute = m1 - (year * 365*24*60 + day * 24*60 + hour * 60)\n",
    "    sec = seconds - (year * 365*24*60*60 + day * 24*60*60 + hour *60*60 + minute * 60)\n",
    "    \n",
    "    a = []\n",
    "    \n",
    "    if year ==1:\n",
    "        years = f\"{year} year\"\n",
    "        a.append(years)\n",
    "    elif year > 1:\n",
    "        years = f\"{year} years\"\n",
    "        a.append(years)\n",
    "        \n",
    "    if day ==1:\n",
    "        days = f\"{day} day\"\n",
    "        a.append(days)\n",
    "    elif day > 1:\n",
    "        days = f\"{day} days\"\n",
    "        a.append(days)\n",
    "        \n",
    "    if hour ==1:\n",
    "        hours = f\"{hour} hour\"\n",
    "        a.append(hours)\n",
    "    elif hour > 1:\n",
    "        hours = f\"{hour} hours\"\n",
    "        a.append(hours)\n",
    "    \n",
    "    if minute ==1:\n",
    "        minutes = f\"{minute} minute\"\n",
    "        a.append(minutes)\n",
    "    elif minute > 1:\n",
    "        minutes = f\"{minute} minutes\"\n",
    "        a.append(minutes)\n",
    "    \n",
    "    if sec ==1:\n",
    "        secs = f\"{sec} second\"\n",
    "        a.append(secs)\n",
    "    elif sec > 1:\n",
    "        secs = f\"{sec} seconds\"\n",
    "        a.append(secs)\n",
    "    s = \"\"\n",
    "\n",
    "    if len(a)> 2:\n",
    "        s+= \", \".join(a[:-1])\n",
    "        s += f\" and {a[-1]}\"\n",
    "        return s\n",
    "    elif len(a) == 2:\n",
    "        s += f\"{a[0]} and {a[1]}\"\n",
    "        return s\n",
    "    elif len(a) == 1:\n",
    "        s += a[0]\n",
    "        return s\n",
    "    else:\n",
    "        return s"
   ]
  },
  {
   "cell_type": "code",
   "execution_count": 53,
   "id": "5c9f23f7",
   "metadata": {
    "pycharm": {
     "is_executing": false,
     "name": "#%%\n"
    }
   },
   "outputs": [
    {
     "data": {
      "text/plain": [
       "'514080289309424649006853 years, 183 days, 3 hours and 4 minutes'"
      ]
     },
     "execution_count": 53,
     "metadata": {},
     "output_type": "execute_result"
    }
   ],
   "source": [
    "format_duration(16212036003662015731080132030240)"
   ]
  },
  {
   "cell_type": "code",
   "execution_count": 54,
   "id": "ee2ec8e8",
   "metadata": {
    "pycharm": {
     "is_executing": false,
     "name": "#%%\n"
    }
   },
   "outputs": [],
   "source": [
    "times = [(\"year\", 365 * 24 * 60 * 60), \n",
    "         (\"day\", 24 * 60 * 60),\n",
    "         (\"hour\", 60 * 60),\n",
    "         (\"minute\", 60),\n",
    "         (\"second\", 1)]\n",
    "\n",
    "def fformat_duration(seconds):\n",
    "\n",
    "    if not seconds:\n",
    "        return \"now\"\n",
    "\n",
    "    chunks = []\n",
    "    for name, secs in times:\n",
    "        qty = seconds // secs\n",
    "        if qty:\n",
    "            if qty > 1:\n",
    "                name += \"s\"\n",
    "            chunks.append(str(qty) + \" \" + name)\n",
    "\n",
    "        seconds = seconds % secs\n",
    "\n",
    "    return ', '.join(chunks[:-1]) + ' and ' + chunks[-1] if len(chunks) > 1 else chunks[0]"
   ]
  },
  {
   "cell_type": "code",
   "execution_count": 55,
   "id": "7d36526b",
   "metadata": {
    "pycharm": {
     "is_executing": false,
     "name": "#%%\n"
    }
   },
   "outputs": [
    {
     "name": "stdout",
     "output_type": "stream",
     "text": [
      "5.73 µs ± 377 ns per loop (mean ± std. dev. of 7 runs, 100000 loops each)\n"
     ]
    }
   ],
   "source": [
    "%timeit fformat_duration(16212036003662015731080132030240)"
   ]
  },
  {
   "cell_type": "markdown",
   "id": "6656a02d",
   "metadata": {},
   "source": [
    "---------------------------------\n",
    "\n",
    "### 12\n",
    "The new \"Avengers\" movie has just been released! There are a lot of people at the cinema box office standing in a huge line. Each of them has a single 100, 50 or 25 dollar bill. An \"Avengers\" ticket costs 25 dollars.\n",
    "\n",
    "Vasya is currently working as a clerk. He wants to sell a ticket to every single person in this line.\n",
    "\n",
    "Can Vasya sell a ticket to every person and give change if he initially has no money and sells the tickets strictly in the order people queue?\n",
    "\n",
    "Return YES, if Vasya can sell a ticket to every person and give change with the bills he has at hand at that moment. Otherwise return NO.\n",
    "Examples:  \n",
    "```\n",
    "tickets([25, 25, 50]) # => YES  \n",
    "tickets([25, 100]) # => NO. Vasya will not have enough money to give change to 100 dollars\n",
    "tickets([25, 25, 50, 50, 100]) # => NO. Vasya will not have the right bills to give 75 dollars of change (you can't make two bills of 25 from one of 50)\n",
    "```"
   ]
  },
  {
   "cell_type": "code",
   "execution_count": 56,
   "id": "ce3a07e1",
   "metadata": {
    "pycharm": {
     "is_executing": false,
     "name": "#%%\n"
    }
   },
   "outputs": [],
   "source": [
    "def tickets(people):\n",
    "    wallet = {25 : 0, 50:0, 100:0}\n",
    "    \n",
    "    for i in people:\n",
    "        if i - 25 == 0:\n",
    "            wallet[25] += 1\n",
    "        elif i - 25 == 25:\n",
    "            if wallet[25]:\n",
    "                wallet[25] -= 1\n",
    "                wallet[50] += 1\n",
    "            else:\n",
    "                return \"NO\"\n",
    "        elif i - 25 == 75:\n",
    "            if wallet[25] and wallet[50]:\n",
    "                wallet[25] -= 1\n",
    "                wallet[50] -= 1\n",
    "                wallet[100] += 1\n",
    "            elif wallet[25] > 2:\n",
    "                wallet[25] -= 3\n",
    "                wallet[100] += 1\n",
    "            else:\n",
    "                return \"NO\"  \n",
    "    return \"YES\""
   ]
  },
  {
   "cell_type": "code",
   "execution_count": 57,
   "id": "78d385d0",
   "metadata": {
    "pycharm": {
     "is_executing": false,
     "name": "#%%\n"
    }
   },
   "outputs": [
    {
     "data": {
      "text/plain": [
       "'YES'"
      ]
     },
     "execution_count": 57,
     "metadata": {},
     "output_type": "execute_result"
    }
   ],
   "source": [
    "tickets([25, 25, 50])"
   ]
  },
  {
   "cell_type": "markdown",
   "id": "dd10e733",
   "metadata": {},
   "source": [
    "---------------------------------------\n",
    "--------------------\n",
    "\n",
    "### 13\n",
    "From Wikipedia:\n",
    "\n",
    "\"A divisibility rule is a shorthand way of determining whether a given integer is divisible by a fixed divisor without performing the division, usually by examining its digits.\"\n",
    "\n",
    "When you divide the successive powers of 10 by 13 you get the following remainders of the integer divisions:\n",
    "\n",
    "1, 10, 9, 12, 3, 4 because:\n",
    "\n",
    "10 ^ 0 ->  1 (mod 13)\n",
    "10 ^ 1 -> 10 (mod 13)\n",
    "10 ^ 2 ->  9 (mod 13)\n",
    "10 ^ 3 -> 12 (mod 13)\n",
    "10 ^ 4 ->  3 (mod 13)\n",
    "10 ^ 5 ->  4 (mod 13)\n",
    "\n",
    "(For \"mod\" you can see: https://en.wikipedia.org/wiki/Modulo_operation)\n",
    "\n",
    "Then the whole pattern repeats. Hence the following method:\n",
    "\n",
    "Multiply\n",
    "\n",
    "    the right most digit of the number with the left most number in the sequence shown above,\n",
    "    the second right most digit with the second left most digit of the number in the sequence.\n",
    "\n",
    "The cycle goes on and you sum all these products. Repeat this process until the sequence of sums is stationary.\n",
    "Example:\n",
    "\n",
    "What is the remainder when 1234567 is divided by 13?\n",
    "\n",
    "7      6     5      4     3     2     1  (digits of 1234567 from the right)\n",
    "×      ×     ×      ×     ×     ×     ×  (multiplication)\n",
    "1     10     9     12     3     4     1  (the repeating sequence)\n",
    "\n",
    "Therefore following the method we get:\n",
    "\n",
    "7×1 + 6×10 + 5×9 + 4×12 + 3×3 + 2×4 + 1×1 = 178\n",
    "\n",
    "We repeat the process with the number 178:\n",
    "\n",
    "8x1 + 7x10 + 1x9 = 87\n",
    "\n",
    "and again with 87:\n",
    "\n",
    "7x1 + 8x10 = 87\n",
    "\n",
    "From now on the sequence is stationary (we always get 87) and the remainder of 1234567 by 13 is the same as the remainder of 87 by 13 ( i.e 9).\n",
    "Task:\n",
    "\n",
    "Call thirt the function which processes this sequence of operations on an integer n (>=0). thirt will return the stationary number.\n",
    "\n",
    "thirt(1234567) calculates 178, then 87, then 87 and returns 87.\n",
    "\n",
    "thirt(321) calculates 48, 48 and returns 48\n"
   ]
  },
  {
   "cell_type": "code",
   "execution_count": 58,
   "id": "0e1f5a7b",
   "metadata": {
    "pycharm": {
     "is_executing": false,
     "name": "#%%\n"
    }
   },
   "outputs": [],
   "source": [
    "def thirt(n):\n",
    "    y = [1, 10, 9, 12, 3, 4]\n",
    "    s, f= 0, 0\n",
    "    s1 = -1\n",
    "    x = str(n)[::-1]\n",
    "    while s != s1:\n",
    "        s1 = s\n",
    "        s = 0\n",
    "        f = 0\n",
    "        for i in iter(x):\n",
    "            f1 = f % 6\n",
    "            s += int(i) * y[f1]\n",
    "            f += 1\n",
    "        x = str(s)[::-1]\n",
    "    return s1"
   ]
  },
  {
   "cell_type": "code",
   "execution_count": 59,
   "id": "76c1fc51",
   "metadata": {
    "pycharm": {
     "is_executing": false,
     "name": "#%%\n"
    }
   },
   "outputs": [
    {
     "data": {
      "text/plain": [
       "71"
      ]
     },
     "execution_count": 59,
     "metadata": {},
     "output_type": "execute_result"
    }
   ],
   "source": [
    "thirt(1111111111)"
   ]
  },
  {
   "cell_type": "code",
   "execution_count": 60,
   "id": "e9c00c2e",
   "metadata": {
    "pycharm": {
     "is_executing": false,
     "name": "#%%\n"
    }
   },
   "outputs": [
    {
     "name": "stdout",
     "output_type": "stream",
     "text": [
      "8.46 µs ± 240 ns per loop (mean ± std. dev. of 7 runs, 100000 loops each)\n"
     ]
    }
   ],
   "source": [
    "%timeit thirt(1111111111)"
   ]
  },
  {
   "cell_type": "code",
   "execution_count": 61,
   "id": "0effa57d",
   "metadata": {
    "pycharm": {
     "is_executing": false,
     "name": "#%%\n"
    }
   },
   "outputs": [],
   "source": [
    "array = [1, 10, 9, 12, 3, 4]\n",
    "\n",
    "def tthirt(n):\n",
    "    total = sum([int(c) * array[i % 6] for i, c in enumerate(reversed(str(n)))])\n",
    "    if n == total:\n",
    "        return total\n",
    "    return thirt(total)"
   ]
  },
  {
   "cell_type": "code",
   "execution_count": 62,
   "id": "4804260d",
   "metadata": {
    "pycharm": {
     "is_executing": false,
     "name": "#%%\n"
    }
   },
   "outputs": [
    {
     "name": "stdout",
     "output_type": "stream",
     "text": [
      "12.8 µs ± 1.27 µs per loop (mean ± std. dev. of 7 runs, 100000 loops each)\n"
     ]
    }
   ],
   "source": [
    "%timeit tthirt(1111111111)"
   ]
  },
  {
   "cell_type": "markdown",
   "id": "2f4cad94",
   "metadata": {},
   "source": [
    "-------------------------\n",
    "\n",
    "-------------------------\n",
    "### 14\n",
    "Given an array (arr) as an argument complete the function countSmileys that should return the total number of smiling faces.\n",
    "\n",
    "Rules for a smiling face:\n",
    "\n",
    "    Each smiley face must contain a valid pair of eyes. Eyes can be marked as `:` or `;`\n",
    "    A smiley face can have a nose but it does not have to. Valid characters for a nose are `-` or `~`\n",
    "    Every smiling face must have a smiling mouth that should be marked with either `)` or `D`\n",
    "\n",
    "No additional characters are allowed except for those mentioned.\n",
    "\n",
    "Valid smiley face examples: :) :D ;-D :~)  \n",
    "Invalid smiley faces: ;( :> :} :]\n",
    "#### Example\n",
    "\n",
    "countSmileys([':)', ';(', ';}', ':-D']);       // should return 2;  \n",
    "countSmileys([';D', ':-(', ':-)', ';~)']);     // should return 3;  \n",
    "countSmileys([';]', ':[', ';*', ':$', ';-D']); // should return 1;  \n",
    "\n",
    "Note\n",
    "\n",
    "In case of an empty array return 0. You will not be tested with invalid input (input will always be an array). Order of the face (eyes, nose, mouth) elements will always be the same.\n"
   ]
  },
  {
   "cell_type": "code",
   "execution_count": 63,
   "id": "2e9be92d",
   "metadata": {
    "pycharm": {
     "is_executing": false,
     "name": "#%%\n"
    }
   },
   "outputs": [],
   "source": [
    "import re\n",
    "def count_smileys(arr):\n",
    "    s = []\n",
    "    for i in arr:\n",
    "        s += re.findall(\"[:;][-~]?[D)]\",i)\n",
    "    return len(s)"
   ]
  },
  {
   "cell_type": "code",
   "execution_count": 64,
   "id": "c275dd8c",
   "metadata": {
    "pycharm": {
     "is_executing": false,
     "name": "#%%\n"
    }
   },
   "outputs": [
    {
     "name": "stdout",
     "output_type": "stream",
     "text": [
      "12.2 µs ± 1 µs per loop (mean ± std. dev. of 7 runs, 100000 loops each)\n"
     ]
    }
   ],
   "source": [
    "%timeit count_smileys([';]', ':[', ';*', ':$', ';-D'])"
   ]
  },
  {
   "cell_type": "code",
   "execution_count": 65,
   "id": "22d7f32e",
   "metadata": {
    "pycharm": {
     "is_executing": false,
     "name": "#%%\n"
    }
   },
   "outputs": [],
   "source": [
    "from re import findall\n",
    "def ccount_smileys(arr):\n",
    "    return len((findall(r\"[:;][-~]?[)D]\", \" \".join(arr))))"
   ]
  },
  {
   "cell_type": "code",
   "execution_count": 66,
   "id": "0448e1c3",
   "metadata": {
    "pycharm": {
     "is_executing": false,
     "name": "#%%\n"
    }
   },
   "outputs": [
    {
     "data": {
      "text/plain": [
       "6"
      ]
     },
     "execution_count": 66,
     "metadata": {},
     "output_type": "execute_result"
    }
   ],
   "source": [
    "ccount_smileys([';]', ':[', ';*', ':$', ';-D', ':)', ';(', ';}', ':-D', ';D', ':-(', ':-)', ';~)'])"
   ]
  },
  {
   "cell_type": "markdown",
   "id": "c1b7e373",
   "metadata": {},
   "source": [
    "-----------------------------------------\n",
    "### 15\n",
    "The main idea is to count all the occurring characters in a string. If you have a string like `aba`, then the result should be `{'a': 2, 'b': 1}`.\n",
    "\n",
    "What if the string is empty? Then the result should be empty object literal, `{}`.\n"
   ]
  },
  {
   "cell_type": "code",
   "execution_count": 67,
   "id": "afb6068a",
   "metadata": {
    "pycharm": {
     "is_executing": false,
     "name": "#%%\n"
    }
   },
   "outputs": [],
   "source": [
    "def count(string):\n",
    "    pass"
   ]
  },
  {
   "cell_type": "code",
   "execution_count": null,
   "id": "1b356886",
   "metadata": {
    "pycharm": {
     "is_executing": false,
     "name": "#%%\n"
    }
   },
   "outputs": [],
   "source": []
  },
  {
   "cell_type": "code",
   "execution_count": 68,
   "id": "8a4ba61b",
   "metadata": {
    "pycharm": {
     "is_executing": false,
     "name": "#%%\n"
    }
   },
   "outputs": [],
   "source": [
    "string = \"abcdefghijklmnopqrstuvwxyz\"\n",
    "dic = {\"a\" : 0, \"b\": 0}"
   ]
  },
  {
   "cell_type": "code",
   "execution_count": 69,
   "id": "d6311cd4",
   "metadata": {
    "pycharm": {
     "is_executing": false,
     "name": "#%%\n"
    }
   },
   "outputs": [
    {
     "name": "stdout",
     "output_type": "stream",
     "text": [
      "a\n",
      "b\n",
      "c\n",
      "d\n",
      "e\n",
      "f\n",
      "g\n",
      "h\n",
      "i\n",
      "j\n",
      "k\n",
      "l\n",
      "m\n",
      "n\n",
      "o\n",
      "p\n",
      "q\n",
      "r\n",
      "s\n",
      "t\n",
      "u\n",
      "v\n",
      "w\n",
      "x\n",
      "y\n",
      "z\n"
     ]
    }
   ],
   "source": [
    "for i in string:\n",
    "    print(i)"
   ]
  },
  {
   "cell_type": "markdown",
   "id": "a69a3f98",
   "metadata": {},
   "source": [
    "-----------------------------------\n",
    "### 16\n",
    "Introduction\n",
    "\n",
    "The wave (known as the Mexican wave in the English-speaking world outside North America) is an example of metachronal rhythm achieved in a packed stadium when successive groups of spectators briefly stand, yell, and raise their arms. Immediately upon stretching to full height, the spectator returns to the usual seated position.\n",
    "\n",
    "The result is a wave of standing spectators that travels through the crowd, even though individual spectators never move away from their seats. In many large arenas the crowd is seated in a contiguous circuit all the way around the sport field, and so the wave is able to travel continuously around the arena; in discontiguous seating arrangements, the wave can instead reflect back and forth through the crowd. When the gap in seating is narrow, the wave can sometimes pass through it. Usually only one wave crest will be present at any given time in an arena, although simultaneous, counter-rotating waves have been produced. (Source Wikipedia)\n",
    "\n",
    "Task\n",
    "\n",
    "In this simple Kata your task is to create a function that turns a string into a Mexican Wave. You will be passed a string and you must return that string in an array where an uppercase letter is a person standing up. \n",
    "\n",
    "Rules\n",
    "\n",
    " 1.  The input string will always be lower case but maybe empty.\n",
    "\n",
    " 2.  If the character in the string is whitespace then pass over it as if it was an empty seat\n",
    "\n",
    "Example\n",
    "```\n",
    "wave(\"hello\") => [\"Hello\", \"hEllo\", \"heLlo\", \"helLo\", \"hellO\"]\n",
    "```"
   ]
  },
  {
   "cell_type": "code",
   "execution_count": 70,
   "id": "e2b6b09a",
   "metadata": {
    "pycharm": {
     "is_executing": false,
     "name": "#%%\n"
    }
   },
   "outputs": [],
   "source": [
    "def wave(people):\n",
    "    lst = []\n",
    "    if people == \" \" or people == \"\":\n",
    "        return lst\n",
    "    else:\n",
    "        for x in range(len(people)):\n",
    "            lst1 = []\n",
    "            lst1 = [i for i in people]\n",
    "            lst1[x] = lst1[x].upper()\n",
    "            if \"\".join(lst1) != people:\n",
    "                lst.append(\"\".join(lst1))\n",
    "        return lst"
   ]
  },
  {
   "cell_type": "code",
   "execution_count": 71,
   "id": "2088e1d1",
   "metadata": {
    "pycharm": {
     "is_executing": false,
     "name": "#%%\n"
    }
   },
   "outputs": [
    {
     "data": {
      "text/plain": [
       "[' Gap ', ' gAp ', ' gaP ']"
      ]
     },
     "execution_count": 71,
     "metadata": {},
     "output_type": "execute_result"
    }
   ],
   "source": [
    "wave(' gap ')"
   ]
  },
  {
   "cell_type": "code",
   "execution_count": 72,
   "id": "5f90d7c9",
   "metadata": {
    "pycharm": {
     "is_executing": false,
     "name": "#%%\n"
    }
   },
   "outputs": [],
   "source": [
    "p = \"anskdsld\""
   ]
  },
  {
   "cell_type": "code",
   "execution_count": 73,
   "id": "378daebe",
   "metadata": {
    "pycharm": {
     "is_executing": false,
     "name": "#%%\n"
    }
   },
   "outputs": [],
   "source": [
    "i = 2\n",
    "lst = [i for i in p]"
   ]
  },
  {
   "cell_type": "code",
   "execution_count": 74,
   "id": "b1202aa1",
   "metadata": {
    "pycharm": {
     "is_executing": false,
     "name": "#%%\n"
    }
   },
   "outputs": [],
   "source": [
    "lst[i] = lst[i].upper()"
   ]
  },
  {
   "cell_type": "code",
   "execution_count": 75,
   "id": "9e8cec89",
   "metadata": {
    "pycharm": {
     "is_executing": false,
     "name": "#%%\n"
    }
   },
   "outputs": [
    {
     "data": {
      "text/plain": [
       "'anSkdsld'"
      ]
     },
     "execution_count": 75,
     "metadata": {},
     "output_type": "execute_result"
    }
   ],
   "source": [
    "\"\".join(lst)"
   ]
  },
  {
   "cell_type": "markdown",
   "id": "078a9914",
   "metadata": {
    "pycharm": {
     "name": "#%%\n"
    }
   },
   "source": [
    "----------------------------------\n",
    "\n",
    "### 17\n",
    "Step 1: Create a function called encode() to replace all the lowercase vowels in a given string with numbers according to the following pattern:\n",
    "```\n",
    "a -> 1\n",
    "e -> 2\n",
    "i -> 3\n",
    "o -> 4\n",
    "u -> 5\n",
    "```\n",
    "For example, `encode(\"hello\")` would return `\"h2ll4\"`. There is no need to worry about uppercase vowels in this kata.\n",
    "\n",
    "Step 2: Now create a function called `decode(`) to turn the numbers back into vowels according to the same pattern shown above.\n",
    "\n",
    "For example, `decode(\"h3 th2r2\")` would return `\"hi there\"`.\n",
    "\n",
    "For the sake of simplicity, you can assume that any numbers passed into the function will correspond to vowels.\n"
   ]
  },
  {
   "cell_type": "code",
   "execution_count": 76,
   "id": "692364a2",
   "metadata": {
    "pycharm": {
     "is_executing": false
    }
   },
   "outputs": [],
   "source": [
    "dic = {\"a\": 1, \"e\": 2, \"i\": 3, \"o\": 4, \"u\": 5}\n",
    "def encode(st):\n",
    "    a = \"\"\n",
    "    for i in st:\n",
    "        if i in dic:\n",
    "            a += str(dic[i])\n",
    "        else:\n",
    "            a += i\n",
    "    return a\n",
    "\n",
    "def decode(st):\n",
    "    a = \"\"\n",
    "    for i in st:\n",
    "        if i.lower() in \"abcdefghijklmnopqrstuvwxyz. \":\n",
    "            a += i\n",
    "        else:\n",
    "            a += list(dic.keys())[int(i)-1]\n",
    "    return a"
   ]
  },
  {
   "cell_type": "code",
   "execution_count": 77,
   "id": "ef434ea7",
   "metadata": {
    "pycharm": {
     "is_executing": false
    }
   },
   "outputs": [
    {
     "data": {
      "text/plain": [
       "'Th3s 3s 1n 2nc4d3ng t2st.'"
      ]
     },
     "execution_count": 77,
     "metadata": {},
     "output_type": "execute_result"
    }
   ],
   "source": [
    "encode('This is an encoding test.')"
   ]
  },
  {
   "cell_type": "code",
   "execution_count": 78,
   "id": "254da4d6",
   "metadata": {
    "pycharm": {
     "is_executing": false
    }
   },
   "outputs": [
    {
     "data": {
      "text/plain": [
       "'hello.'"
      ]
     },
     "execution_count": 78,
     "metadata": {},
     "output_type": "execute_result"
    }
   ],
   "source": [
    "decode('h2ll4.')"
   ]
  },
  {
   "cell_type": "code",
   "execution_count": 79,
   "id": "73292868",
   "metadata": {
    "pycharm": {
     "is_executing": false
    }
   },
   "outputs": [],
   "source": [
    "def eencode(s, t=str.maketrans(\"aeiou\", \"12345\")):\n",
    "    return s.translate(t)\n",
    "    \n",
    "def ddecode(s, t=str.maketrans(\"12345\", \"aeiou\")):\n",
    "    return s.translate(t)"
   ]
  },
  {
   "cell_type": "markdown",
   "id": "0785e8cc",
   "metadata": {},
   "source": [
    "----------------------------\n",
    "### 18\n",
    "Implement the function unique_in_order which takes as argument a sequence and returns a list of items without any elements with the same value next to each other and preserving the original order of elements.\n",
    "\n",
    "For example:\n",
    "```\n",
    "unique_in_order('AAAABBBCCDAABBB') == ['A', 'B', 'C', 'D', 'A', 'B']\n",
    "unique_in_order('ABBCcAD')         == ['A', 'B', 'C', 'c', 'A', 'D']\n",
    "unique_in_order([1,2,2,3,3])       == [1,2,3]\n",
    "```"
   ]
  },
  {
   "cell_type": "code",
   "execution_count": 80,
   "id": "c1424b1e",
   "metadata": {
    "pycharm": {
     "is_executing": false
    }
   },
   "outputs": [],
   "source": [
    "def unique_in_order(iterable):\n",
    "    a = []\n",
    "    if not iterable:\n",
    "        return a\n",
    "    a.append(iterable[0])\n",
    "    for i in iterable:\n",
    "        if i != a[-1]:\n",
    "            a.append(i)\n",
    "    return a"
   ]
  },
  {
   "cell_type": "code",
   "execution_count": 81,
   "id": "d7d9397c",
   "metadata": {
    "pycharm": {
     "is_executing": false
    }
   },
   "outputs": [
    {
     "data": {
      "text/plain": [
       "[' ']"
      ]
     },
     "execution_count": 81,
     "metadata": {},
     "output_type": "execute_result"
    }
   ],
   "source": [
    "unique_in_order(' ')"
   ]
  },
  {
   "cell_type": "markdown",
   "id": "ae0d641e",
   "metadata": {},
   "source": [
    "-----------------------------------\n",
    "### 19\n",
    "#### Write Number in Expanded Form\n",
    "\n",
    "You will be given a number and you will need to return it as a string in Expanded Form. For example:\n",
    "```\n",
    "expanded_form(12) # Should return '10 + 2'  \n",
    "expanded_form(42) # Should return '40 + 2'  \n",
    "expanded_form(70304) # Should return '70000 + 300 + 4'  \n",
    "```\n",
    "NOTE: All numbers will be whole numbers greater than 0.\n",
    "\n",
    "If you liked this kata, check out part 2!!\n"
   ]
  },
  {
   "cell_type": "code",
   "execution_count": 82,
   "id": "3f3f10d4",
   "metadata": {
    "pycharm": {
     "is_executing": false
    }
   },
   "outputs": [],
   "source": [
    "def expanded_form(num):\n",
    "    a = []\n",
    "    for i in str(num):\n",
    "        a.append(i)\n",
    "    return \" + \".join(i + \"0\" * (len(a)-j-1) for j,i in enumerate(a) if i!=\"0\") \n",
    "\n",
    "    #for i,j in enumerate(a):\n",
    "    #    if int(j):\n",
    "    #        s.append(str(int(j) * 10**(len(a)-i-1))) \n",
    "    #print(s)\n",
    "    #return \" + \".join((s))"
   ]
  },
  {
   "cell_type": "code",
   "execution_count": 83,
   "id": "047a6d18",
   "metadata": {
    "pycharm": {
     "is_executing": false
    }
   },
   "outputs": [
    {
     "data": {
      "text/plain": [
       "'70000 + 300 + 4'"
      ]
     },
     "execution_count": 83,
     "metadata": {},
     "output_type": "execute_result"
    }
   ],
   "source": [
    "expanded_form(70304)"
   ]
  },
  {
   "cell_type": "markdown",
   "id": "21e400e9",
   "metadata": {},
   "source": [
    "------------------------------\n",
    "### 20\n",
    "### Longest Palindrome\n",
    "\n",
    "Find the length of the longest substring in the given string s that is the same in reverse.\n",
    "\n",
    "As an example, if the input was “I like racecars that go fast”, the substring (racecar) length would be 7.\n",
    "\n",
    "If the length of the input string is 0, the return value must be 0.  \n",
    "Example:\n",
    "```\n",
    "\"a\" -> 1 \n",
    "\"aab\" -> 2  \n",
    "\"abcde\" -> 1\n",
    "\"zzbaabcd\" -> 4\n",
    "\"\" -> 0\n",
    "\n",
    "```\n"
   ]
  },
  {
   "cell_type": "code",
   "execution_count": 84,
   "id": "6f990b0c",
   "metadata": {
    "pycharm": {
     "is_executing": false
    }
   },
   "outputs": [],
   "source": [
    "def longest_palindrome (s):\n",
    "    result = \"\"\n",
    "    reslen = 0\n",
    "    for i in range(len(s)):\n",
    "        #odd\n",
    "        l, r = i, i\n",
    "        while l >= 0 and r < len(s) and s[l] == s[r]:\n",
    "            if r-l+1 > reslen:\n",
    "                result = s[l:r+1]\n",
    "                reslen = r - l+1\n",
    "            l -= 1\n",
    "            r += 1\n",
    "        #even    \n",
    "        l, r = i, i+1\n",
    "        while l >= 0 and r < len(s) and s[l] == s[r]:\n",
    "            if r-l+1 > reslen:\n",
    "                result = s[l:r+1]\n",
    "                reslen = r - l+1\n",
    "            l -= 1\n",
    "            r += 1\n",
    "    return result"
   ]
  },
  {
   "cell_type": "code",
   "execution_count": 85,
   "id": "062bda3b",
   "metadata": {
    "pycharm": {
     "is_executing": false
    }
   },
   "outputs": [
    {
     "data": {
      "text/plain": [
       "'racecar'"
      ]
     },
     "execution_count": 85,
     "metadata": {},
     "output_type": "execute_result"
    }
   ],
   "source": [
    "longest_palindrome(\"I like racecars that go fast\")"
   ]
  },
  {
   "cell_type": "markdown",
   "id": "00486497",
   "metadata": {},
   "source": [
    "-------------------------------------------\n",
    "\n",
    "### 21\n",
    "The maximum sum subarray problem consists in finding the maximum sum of a contiguous subsequence in an array or list of integers:\n",
    "```\n",
    "max_sequence([-2, 1, -3, 4, -1, 2, 1, -5, 4])\n",
    "should be 6: [4, -1, 2, 1]\n",
    "```\n",
    "Easy case is when the list is made up of only positive numbers and the maximum sum is the sum of the whole array. If the list is made up of only negative numbers, return 0 instead.\n",
    "\n",
    "Empty list is considered to have zero greatest sum. Note that the empty list or array is also a valid sublist/subarray.\n"
   ]
  },
  {
   "cell_type": "code",
   "execution_count": 86,
   "id": "22016f33",
   "metadata": {
    "pycharm": {
     "is_executing": false
    }
   },
   "outputs": [],
   "source": [
    "lst = [-2, 1, -3, 4, -1, 2, 1, -5, 4]"
   ]
  },
  {
   "cell_type": "code",
   "execution_count": 87,
   "id": "11783d5a",
   "metadata": {
    "pycharm": {
     "is_executing": false
    }
   },
   "outputs": [
    {
     "data": {
      "text/plain": [
       "0.1111111111111111"
      ]
     },
     "execution_count": 87,
     "metadata": {},
     "output_type": "execute_result"
    }
   ],
   "source": [
    "avg = sum(lst) / len(lst)\n",
    "avg"
   ]
  },
  {
   "cell_type": "code",
   "execution_count": 88,
   "id": "c7f4c0de",
   "metadata": {
    "pycharm": {
     "is_executing": false
    }
   },
   "outputs": [
    {
     "data": {
      "text/plain": [
       "4"
      ]
     },
     "execution_count": 88,
     "metadata": {},
     "output_type": "execute_result"
    }
   ],
   "source": [
    "sum(lst[1:7])"
   ]
  },
  {
   "cell_type": "code",
   "execution_count": 89,
   "id": "fef77dd9",
   "metadata": {
    "pycharm": {
     "is_executing": false
    }
   },
   "outputs": [
    {
     "name": "stdout",
     "output_type": "stream",
     "text": [
      "[1] f\n",
      "[1, -3, 4] f\n",
      "[1, -3, 4, -1, 2] f\n",
      "[1, -3, 4, -1, 2, 1] f\n",
      "[4, -1, 2] f\n",
      "[4, -1, 2, 1] f\n"
     ]
    }
   ],
   "source": [
    "avg = sum(lst) / len(lst)\n",
    "res = 0\n",
    "\n",
    "for i in range(len(lst)):\n",
    "    r = i\n",
    "    if lst[i] >= avg:\n",
    "        while r < len(lst):\n",
    "            if sum(lst[i:r+1]) > res:\n",
    "                res = sum(lst[i:r+1])\n",
    "                print(lst[i:r+1],\"f\")\n",
    "            r += 1\n",
    "                \n",
    "    l = i\n",
    "    if lst[i] >= avg:\n",
    "        while l >=0 :\n",
    "            if sum(lst[l:i+1]) > res:\n",
    "                res = sum(lst[l:i+1])\n",
    "                print(lst[l:i+1],\"b\")\n",
    "            l -= 1"
   ]
  },
  {
   "cell_type": "code",
   "execution_count": 90,
   "id": "6b28e456",
   "metadata": {
    "pycharm": {
     "is_executing": false
    }
   },
   "outputs": [
    {
     "data": {
      "text/plain": [
       "6"
      ]
     },
     "execution_count": 90,
     "metadata": {},
     "output_type": "execute_result"
    }
   ],
   "source": [
    "res"
   ]
  },
  {
   "cell_type": "code",
   "execution_count": 91,
   "id": "508e75b9",
   "metadata": {
    "pycharm": {
     "is_executing": false
    }
   },
   "outputs": [],
   "source": [
    "def max_subarray(numbers):\n",
    "    if not numbers:\n",
    "        return 0\n",
    "    avg = sum(numbers) / len(numbers)\n",
    "    res = 0\n",
    "    for i in range(len(numbers)):\n",
    "        r = i\n",
    "        if numbers[i] >= avg:\n",
    "            while r < len(numbers):\n",
    "                if sum(numbers[i:r+1]) > res:\n",
    "                    res = sum(numbers[i:r+1])\n",
    "                    \n",
    "                r += 1\n",
    "\n",
    "        l = i\n",
    "        if numbers[i] >= avg:\n",
    "            while l >=0 :\n",
    "                if sum(numbers[l:i+1]) > res:\n",
    "                    res = sum(numbers[l:i+1])\n",
    "                    \n",
    "                l -= 1\n",
    "    return res"
   ]
  },
  {
   "cell_type": "code",
   "execution_count": 92,
   "id": "76286b7c",
   "metadata": {
    "pycharm": {
     "is_executing": false
    }
   },
   "outputs": [
    {
     "data": {
      "text/plain": [
       "0"
      ]
     },
     "execution_count": 92,
     "metadata": {},
     "output_type": "execute_result"
    }
   ],
   "source": [
    "max_subarray([])"
   ]
  },
  {
   "cell_type": "markdown",
   "id": "f5a3f077",
   "metadata": {},
   "source": [
    "---------------------------------------------------\n",
    "### 22\n",
    "There is an array with some numbers. All numbers are equal except for one. Try to find it!\n",
    "```\n",
    "find_uniq([ 1, 1, 1, 2, 1, 1 ]) == 2\n",
    "find_uniq([ 0, 0, 0.55, 0, 0 ]) == 0.55\n",
    "```\n",
    "It’s guaranteed that array contains at least 3 numbers.\n",
    "\n",
    "The tests contain some very huge arrays, so think about performance.\n",
    "\n",
    "This is the first kata in series:\n",
    "\n",
    "    Find the unique number (this kata)\n",
    "    Find the unique string\n",
    "    Find The Unique\n",
    "\n"
   ]
  },
  {
   "cell_type": "code",
   "execution_count": 93,
   "id": "015a5435",
   "metadata": {
    "pycharm": {
     "is_executing": false
    }
   },
   "outputs": [],
   "source": [
    "import numpy as np\n",
    "def find_uniq(arr):\n",
    "    arr = np.array(arr)\n",
    "    x = arr[0].lower()\n",
    "    if len(arr[arr != x]) ==1:\n",
    "        return (arr[arr != x])[0]\n",
    "    else:\n",
    "        return x"
   ]
  },
  {
   "cell_type": "code",
   "execution_count": 94,
   "id": "2a1e856c",
   "metadata": {
    "pycharm": {
     "is_executing": false
    }
   },
   "outputs": [
    {
     "data": {
      "text/plain": [
       "'aa'"
      ]
     },
     "execution_count": 94,
     "metadata": {},
     "output_type": "execute_result"
    }
   ],
   "source": [
    "find_uniq([ 'Aa', 'aaa', 'aaaaa', 'BbBb', 'Aaaa', 'AaAaAa', 'a' ])"
   ]
  },
  {
   "cell_type": "markdown",
   "id": "3946c017",
   "metadata": {},
   "source": [
    "---------------------------\n",
    "\n",
    "### 23\n",
    "The rgb function is incomplete. Complete it so that passing in RGB decimal values will result in a hexadecimal representation being returned. Valid decimal values for RGB are 0 - 255. Any values that fall out of that range must be rounded to the closest valid value.\n",
    "\n",
    "Note: Your answer should always be 6 characters long, the shorthand with 3 will not work here.\n",
    "\n",
    "The following are examples of expected output values:\n",
    "```\n",
    "rgb(255, 255, 255) # returns FFFFFF\n",
    "rgb(255, 255, 300) # returns FFFFFF\n",
    "rgb(0,0,0) # returns 000000\n",
    "rgb(148, 0, 211) # returns 9400D3\n",
    "```"
   ]
  },
  {
   "cell_type": "code",
   "execution_count": 95,
   "id": "6e13afbe",
   "metadata": {
    "pycharm": {
     "is_executing": false
    }
   },
   "outputs": [],
   "source": [
    "def rgb(r, g, b):\n",
    "    if not (-1<r<256):\n",
    "        r = 0 if \"-\" in str(r) else 255\n",
    "    if not (-1<g<256):\n",
    "        g = 0 if \"-\" in str(g) else 255\n",
    "    if not (-1<b<256):\n",
    "        b = 0 if \"-\" in str(b) else 255\n",
    "    s = hex(r*65536+g*256+b)\n",
    "    return s[2:].upper() if len(s)==8 else (\"0\"*(8-len(s)) + s[2:].upper())"
   ]
  },
  {
   "cell_type": "code",
   "execution_count": 96,
   "id": "95023004",
   "metadata": {
    "pycharm": {
     "is_executing": false
    }
   },
   "outputs": [
    {
     "data": {
      "text/plain": [
       "'00FF7D'"
      ]
     },
     "execution_count": 96,
     "metadata": {},
     "output_type": "execute_result"
    }
   ],
   "source": [
    "rgb(-20,275,125)"
   ]
  },
  {
   "cell_type": "code",
   "execution_count": 97,
   "id": "ffbc4885",
   "metadata": {
    "pycharm": {
     "is_executing": false
    }
   },
   "outputs": [],
   "source": [
    "def rrgb(r, g, b):\n",
    "    round = lambda x: min(255, max(x, 0))\n",
    "    return (\"{:02X}\" * 3).format(round(r), round(g), round(b))"
   ]
  },
  {
   "cell_type": "code",
   "execution_count": 98,
   "id": "73c5b157",
   "metadata": {
    "pycharm": {
     "is_executing": false
    }
   },
   "outputs": [
    {
     "data": {
      "text/plain": [
       "'00FF7D'"
      ]
     },
     "execution_count": 98,
     "metadata": {},
     "output_type": "execute_result"
    }
   ],
   "source": [
    "rrgb(-20,275,125)"
   ]
  },
  {
   "cell_type": "markdown",
   "id": "4faacf85",
   "metadata": {},
   "source": [
    "--------------------------\n",
    "\n",
    "### 24\n",
    "\n",
    "\n",
    "In this kata we want to convert a string into an integer. The strings simply represent the numbers in words.\n",
    "\n",
    "Examples:\n",
    "\n",
    "    \"one\" => 1\n",
    "    \"twenty\" => 20\n",
    "    \"two hundred forty-six\" => 246\n",
    "    \"seven hundred eighty-three thousand nine hundred and nineteen\" => 783919\n",
    "\n",
    "Additional Notes:\n",
    "\n",
    "    The minimum number is \"zero\" (inclusively)\n",
    "    The maximum number, which must be supported is 1 million (inclusively)\n",
    "    The \"and\" in e.g. \"one hundred and twenty-four\" is optional, in some cases it's present and in others it's not\n",
    "    All tested numbers are valid, you don't need to validate them\n",
    "\n",
    "\n"
   ]
  },
  {
   "cell_type": "code",
   "execution_count": 99,
   "id": "4c5487f5",
   "metadata": {
    "pycharm": {
     "is_executing": false
    }
   },
   "outputs": [],
   "source": [
    "import re\n",
    "dic = {\"zero\": 0,\"one\": 1, \"two\": 2, \"three\": 3, \"four\": 4, \"five\": 5, \"six\": 6, \"seven\": 7, \"eight\": 8, \"nine\": 9,\n",
    "      \"ten\": 10, \"eleven\":11, \"twelve\": 12, \"thirteen\": 13, \"fourteen\":14, \"fifteen\":15, \"sixteen\":16, \"seventeen\":17,\n",
    "      \"eighteen\":18, \"nineteen\":19, \"twenty\":20, \"thirty\":30, \"forty\":40, \"fifty\":50, \"sixty\":60, \"seventy\":70,\n",
    "      \"eighty\":80, \"ninety\":90}\n",
    "dic2 = {\"hundred\":100, \"thousand\":1000, \"million\":1000000}\n",
    "\n",
    "def parse_int(string):\n",
    "    x = []\n",
    "    x1 = 0\n",
    "    for i in re.split(\"-| \", string):\n",
    "        if i in list(dic.keys()):\n",
    "            x1 += (dic[i])\n",
    "            \n",
    "        elif i in list(dic2.keys()):\n",
    "            if i == \"thousand\":\n",
    "                x1 *= dic2[i]\n",
    "                x.append(x1)\n",
    "                x1 = 0\n",
    "            else:\n",
    "                x1 *= dic2[i]\n",
    "    x.append(x1)\n",
    "    return sum(x)"
   ]
  },
  {
   "cell_type": "code",
   "execution_count": 100,
   "id": "6f860076",
   "metadata": {
    "pycharm": {
     "is_executing": false
    }
   },
   "outputs": [
    {
     "data": {
      "text/plain": [
       "1000"
      ]
     },
     "execution_count": 100,
     "metadata": {},
     "output_type": "execute_result"
    }
   ],
   "source": [
    "parse_int(\"one thousand hundred\")"
   ]
  },
  {
   "cell_type": "code",
   "execution_count": 101,
   "id": "4c545d75",
   "metadata": {
    "pycharm": {
     "is_executing": false
    }
   },
   "outputs": [],
   "source": [
    "string = \"seven hundred eighty-three thousand nine hundred and nineteen\""
   ]
  },
  {
   "cell_type": "code",
   "execution_count": 102,
   "id": "b194aa26",
   "metadata": {
    "pycharm": {
     "is_executing": false
    }
   },
   "outputs": [
    {
     "data": {
      "text/plain": [
       "['seven',\n",
       " 'hundred',\n",
       " 'eighty',\n",
       " 'three',\n",
       " 'thousand',\n",
       " 'nine',\n",
       " 'hundred',\n",
       " 'and',\n",
       " 'nineteen']"
      ]
     },
     "execution_count": 102,
     "metadata": {},
     "output_type": "execute_result"
    }
   ],
   "source": [
    "re.split(\"-| \", string)"
   ]
  },
  {
   "cell_type": "code",
   "execution_count": 103,
   "id": "538b2767",
   "metadata": {
    "pycharm": {
     "is_executing": false
    }
   },
   "outputs": [],
   "source": [
    "dic = {\"zero\": 0,\"one\": 1, \"two\": 2, \"three\": 3, \"four\": 4, \"five\": 5, \"six\": 6, \"seven\": 7, \"eight\": 8, \"nine\": 9,\n",
    "      \"ten\": 10, \"eleven\":11, \"twelve\": 12, \"thirteen\": 13, \"fourteen\":14, \"fifteen\":15, \"sixteen\":16, \"seventeen\":17,\n",
    "      \"eighteen\":18, \"nineteen\":19, \"twenty\":20, \"thirty\":30, \"forty\":40, \"fifty\":50, \"sixty\":60, \"seventy\":70,\n",
    "      \"eighty\":80, \"ninety\":90}"
   ]
  },
  {
   "cell_type": "code",
   "execution_count": 104,
   "id": "513c5664",
   "metadata": {
    "pycharm": {
     "is_executing": false
    },
    "scrolled": true
   },
   "outputs": [],
   "source": [
    "dic2 = {\"hundred\":100, \"thousand\":1000, \"million\":10**6}"
   ]
  },
  {
   "cell_type": "code",
   "execution_count": 105,
   "id": "c715faed",
   "metadata": {
    "pycharm": {
     "is_executing": false
    }
   },
   "outputs": [
    {
     "name": "stdout",
     "output_type": "stream",
     "text": [
      "+ 7 * 0\n",
      "+ 700 * 0\n",
      "+ 780 * 0\n",
      "+ 783 * 0\n",
      "+ 0 * 783000\n",
      "+ 9 * 783000\n",
      "+ 900 * 783000\n",
      "+ 900 * 783000\n",
      "+ 919 * 783000\n",
      "783919\n"
     ]
    }
   ],
   "source": [
    "x = 0\n",
    "x1 = 0\n",
    "z = 0\n",
    "for i in re.split(\"-| \", string):\n",
    "    if i in list(dic.keys()):\n",
    "            x1 += (dic[i])\n",
    "    elif i in list(dic2.keys()):\n",
    "        if z%2 == 0:\n",
    "            x1 *= (dic2[i])\n",
    "            z += 1\n",
    "        else:\n",
    "            x1 *= (dic2[i])\n",
    "            z += 1\n",
    "            x += x1\n",
    "            x1 = 0\n",
    "    print(\"+\",x1, \"*\", x)\n",
    "x += x1\n",
    "print(x)"
   ]
  },
  {
   "cell_type": "markdown",
   "id": "e9a31e16",
   "metadata": {},
   "source": [
    "----------------------------------------------------------\n",
    "### 25 \n",
    "The goal of this exercise is to convert a string to a new string where each character in the new string is \"(\" if that character appears only once in the original string, or \")\" if that character appears more than once in the original string. Ignore capitalization when determining if a character is a duplicate.  \n",
    "Examples\n",
    "```\n",
    "\"din\"      =>  \"(((\"\n",
    "\"recede\"   =>  \"()()()\"\n",
    "\"Success\"  =>  \")())())\"\n",
    "\"(( @\"     =>  \"))((\" \n",
    "```\n",
    "Notes\n",
    "\n",
    "Assertion messages may be unclear about what they display in some languages. If you read \"...It Should encode XXX\", the \"XXX\" is the expected result, not the input!\n"
   ]
  },
  {
   "cell_type": "code",
   "execution_count": 106,
   "id": "5e28c218",
   "metadata": {},
   "outputs": [],
   "source": [
    "def duplicate_encode(word):\n",
    "    word = word.lower()\n",
    "    s = ''\n",
    "    for i in word:\n",
    "        if word.count(i) > 1:\n",
    "            s += \")\"\n",
    "        else:\n",
    "            s += \"(\"\n",
    "    return s"
   ]
  },
  {
   "cell_type": "markdown",
   "id": "52c159c1",
   "metadata": {},
   "source": [
    "-------------------------------------------------\n",
    "### 26 \n",
    "Consider an array/list of sheep where some sheep may be missing from their place. We need a function that counts the number of sheep present in the array (true means present).\n",
    "\n",
    "For example,\n",
    "\n",
    "    [True,  True,  True,  False,\n",
    "    True,  True,  True,  True ,\n",
    "    True,  False, True,  False,\n",
    "    True,  False, False, True ,\n",
    "    True,  True,  True,  True ,\n",
    "    False, False, True,  True]\n",
    "\n",
    "The correct answer would be 17.\n",
    "\n",
    "Hint: Don't forget to check for bad values like `null/undefined`\n"
   ]
  },
  {
   "cell_type": "code",
   "execution_count": 107,
   "id": "c1b0e2fa",
   "metadata": {},
   "outputs": [],
   "source": [
    "def count_sheeps(sheep):\n",
    "    return sheep.count(True)"
   ]
  },
  {
   "cell_type": "code",
   "execution_count": 108,
   "id": "4a18cfec",
   "metadata": {},
   "outputs": [
    {
     "data": {
      "text/plain": [
       "17"
      ]
     },
     "execution_count": 108,
     "metadata": {},
     "output_type": "execute_result"
    }
   ],
   "source": [
    "count_sheeps([True,  True,  True,  False,\n",
    "True,  True,  True,  True ,\n",
    "True,  False, True,  False,\n",
    "True,  False, False, True ,\n",
    "True,  True,  True,  True ,\n",
    "False, False, True,  True])"
   ]
  },
  {
   "cell_type": "markdown",
   "id": "f83bf937",
   "metadata": {},
   "source": [
    "-----------------------------------------------------------\n",
    "### 27 \n",
    "Write a function that takes a string of parentheses, and determines if the order of the parentheses is valid. The function should return true if the string is valid, and false if it's invalid.  \n",
    "Examples  \n",
    "```\n",
    "\"()\"              =>  true\n",
    "\")(()))\"          =>  false\n",
    "\"(\"               =>  false\n",
    "\"(())((()())())\"  =>  true\n",
    "```\n",
    "Constraints\n",
    "`\n",
    "0 <= input.length <= 100\n",
    "`\n",
    "Along with opening (() and closing ()) parenthesis, input may contain any valid ASCII characters. Furthermore, the input string may be empty and/or not contain any parentheses at all. Do not treat other forms of brackets as parentheses (e.g. [], {}, <>).\n"
   ]
  },
  {
   "cell_type": "code",
   "execution_count": 109,
   "id": "2cecab8c",
   "metadata": {},
   "outputs": [],
   "source": [
    "def valid_parentheses(s):\n",
    "    i = 0\n",
    "    a = 0\n",
    "    b = 0\n",
    "    while True:\n",
    "        try:\n",
    "            if s[i] == \"(\" :\n",
    "                s = s.replace(s[i],\"\",1)\n",
    "                a +=1\n",
    "                for l in s:\n",
    "                    if l == ')':\n",
    "                        s = s.replace(l,\"\",1)\n",
    "                        b +=1\n",
    "                        break\n",
    "            elif s[i] == ')':\n",
    "                return False\n",
    "            else:\n",
    "                i +=1 \n",
    "                pass\n",
    "        except IndexError:\n",
    "            if a == b:\n",
    "                return True\n",
    "            else:\n",
    "                return False"
   ]
  },
  {
   "cell_type": "code",
   "execution_count": 113,
   "id": "543d0f22",
   "metadata": {},
   "outputs": [
    {
     "name": "stdout",
     "output_type": "stream",
     "text": [
      "9.66 µs ± 438 ns per loop (mean ± std. dev. of 7 runs, 100000 loops each)\n"
     ]
    }
   ],
   "source": [
    "%timeit valid_parentheses('(((()()())))')"
   ]
  },
  {
   "cell_type": "code",
   "execution_count": 111,
   "id": "6d56bb17",
   "metadata": {},
   "outputs": [],
   "source": [
    "def valid_parenthesess(string):\n",
    "    cnt = 0\n",
    "    for char in string:\n",
    "        if char == '(': cnt += 1\n",
    "        if char == ')': cnt -= 1\n",
    "        if cnt < 0: return False\n",
    "    return True if cnt == 0 else False"
   ]
  },
  {
   "cell_type": "code",
   "execution_count": 114,
   "id": "492074c8",
   "metadata": {},
   "outputs": [
    {
     "name": "stdout",
     "output_type": "stream",
     "text": [
      "3.7 µs ± 82.9 ns per loop (mean ± std. dev. of 7 runs, 100000 loops each)\n"
     ]
    }
   ],
   "source": [
    "%timeit valid_parenthesess('(((()()())))')"
   ]
  },
  {
   "cell_type": "markdown",
   "id": "9be1326e",
   "metadata": {},
   "source": [
    "---\n",
    "### 28 \n",
    "\n",
    "**Enough is enough!**\n",
    "Alice and Bob were on a holiday. Both of them took many pictures of the places they've been, and now they want to show Charlie their entire collection. However, Charlie doesn't like these sessions, since the motif usually repeats. He isn't fond of seeing the Eiffel tower 40 times.\n",
    "He tells them that he will only sit for the session if they show the same motif at most N times. Luckily, Alice and Bob are able to encode the motif as a number. Can you help them to remove numbers such that their list contains each number only up to N times, without changing the order?\n",
    "\n",
    "**Task**\n",
    "Given a list and a number, create a new list that contains each number of list at most N times, without reordering.\n",
    "For example if the input number is 2, and the input list is [1,2,3,1,2,1,2,3], you take [1,2,3,1,2], drop the next [1,2] since this would lead to 1 and 2 being in the result 3 times, and then take 3, which leads to [1,2,3,1,2,3].\n",
    "With list [20,37,20,21] and number 1, the result would be [20,37,21]."
   ]
  },
  {
   "cell_type": "code",
   "execution_count": null,
   "id": "dd6b5cce",
   "metadata": {},
   "outputs": [],
   "source": []
  }
 ],
 "metadata": {
  "kernelspec": {
   "display_name": "Python 3 (ipykernel)",
   "language": "python",
   "name": "python3"
  },
  "language_info": {
   "codemirror_mode": {
    "name": "ipython",
    "version": 3
   },
   "file_extension": ".py",
   "mimetype": "text/x-python",
   "name": "python",
   "nbconvert_exporter": "python",
   "pygments_lexer": "ipython3",
   "version": "3.8.2"
  },
  "pycharm": {
   "stem_cell": {
    "cell_type": "raw",
    "metadata": {
     "collapsed": false
    },
    "source": []
   }
  }
 },
 "nbformat": 4,
 "nbformat_minor": 5
}
